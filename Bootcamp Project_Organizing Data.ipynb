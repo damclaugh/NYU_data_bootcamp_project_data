{
 "cells": [
  {
   "cell_type": "markdown",
   "metadata": {},
   "source": [
    "## Data Bootcamp\n",
    "### Evaluating the Impact of Immigration \n",
    "\n",
    "In this project, we explore the impact of immigration by considering various indicators, particularly economic. Our goal is to better understand how immigration affects the economy as a whole, in addition to specific industries, and compare our analysis to the policies and positions advocated by current political leaders. We will consider two types of data:\n",
    "\n",
    "* **Economic indicators.** We look at a number of different measures of economic activity in the U.S.\n",
    "* ** Immigration statistics. ** There are two types of immigration we are interested in evaluating — undocumented immigration and legal immigration. The fidelity and availability of data varies for these two categories."
   ]
  },
  {
   "cell_type": "markdown",
   "metadata": {},
   "source": [
    "### Preliminaries \n",
    "\n",
    "Import packages and check code versions."
   ]
  },
  {
   "cell_type": "code",
   "execution_count": 4,
   "metadata": {},
   "outputs": [
    {
     "name": "stdout",
     "output_type": "stream",
     "text": [
      "Today is 2017-12-05\n",
      "What version of Python are we running? \n",
      "3.6.3 |Anaconda, Inc.| (default, Oct  6 2017, 12:04:38) \n",
      "[GCC 4.2.1 Compatible Clang 4.0.1 (tags/RELEASE_401/final)]\n"
     ]
    }
   ],
   "source": [
    "# import packages \n",
    "import pandas as pd                   # data management\n",
    "import matplotlib.pyplot as plt       # graphics \n",
    "import matplotlib as mpl              # graphics parameters\n",
    "import numpy as np                    # numerical calculations \n",
    "\n",
    "# IPython command, puts plots in notebook \n",
    "%matplotlib inline\n",
    "\n",
    "# check Python version \n",
    "import datetime as dt \n",
    "import sys\n",
    "print('Today is', dt.date.today())\n",
    "print('What version of Python are we running? \\n', sys.version, sep='')"
   ]
  },
  {
   "cell_type": "code",
   "execution_count": 32,
   "metadata": {},
   "outputs": [
    {
     "data": {
      "text/plain": [
       "Legal Permanent Residents    float64\n",
       "dtype: object"
      ]
     },
     "execution_count": 32,
     "metadata": {},
     "output_type": "execute_result"
    }
   ],
   "source": [
    "# Annual Number of U.S. Legal Permanent Residents\n",
    "url = '/Users/christopherchoi/Documents/Data_Bootcamp/Project_Data/US-immigration-flow.xlsx'\n",
    "datalpr = pd.read_excel(url, skiprows=7)\n",
    "datalpr = datalpr.set_index(\"Year\")\n",
    "datalpr.columns = [\"Legal Permanent Residents\"]\n",
    "\n",
    "datalpr.shape\n",
    "datalpr.dtypes"
   ]
  },
  {
   "cell_type": "code",
   "execution_count": 31,
   "metadata": {},
   "outputs": [
    {
     "data": {
      "text/html": [
       "<div>\n",
       "<style>\n",
       "    .dataframe thead tr:only-child th {\n",
       "        text-align: right;\n",
       "    }\n",
       "\n",
       "    .dataframe thead th {\n",
       "        text-align: left;\n",
       "    }\n",
       "\n",
       "    .dataframe tbody tr th {\n",
       "        vertical-align: top;\n",
       "    }\n",
       "</style>\n",
       "<table border=\"1\" class=\"dataframe\">\n",
       "  <thead>\n",
       "    <tr style=\"text-align: right;\">\n",
       "      <th></th>\n",
       "      <th>Legal Permanent Residents</th>\n",
       "    </tr>\n",
       "    <tr>\n",
       "      <th>Year</th>\n",
       "      <th></th>\n",
       "    </tr>\n",
       "  </thead>\n",
       "  <tbody>\n",
       "    <tr>\n",
       "      <th>NaN</th>\n",
       "      <td>NaN</td>\n",
       "    </tr>\n",
       "    <tr>\n",
       "      <th>1820</th>\n",
       "      <td>8385.0</td>\n",
       "    </tr>\n",
       "    <tr>\n",
       "      <th>1821</th>\n",
       "      <td>9127.0</td>\n",
       "    </tr>\n",
       "    <tr>\n",
       "      <th>1822</th>\n",
       "      <td>6911.0</td>\n",
       "    </tr>\n",
       "    <tr>\n",
       "      <th>1823</th>\n",
       "      <td>6354.0</td>\n",
       "    </tr>\n",
       "    <tr>\n",
       "      <th>1824</th>\n",
       "      <td>7912.0</td>\n",
       "    </tr>\n",
       "    <tr>\n",
       "      <th>1825</th>\n",
       "      <td>10199.0</td>\n",
       "    </tr>\n",
       "    <tr>\n",
       "      <th>1826</th>\n",
       "      <td>10837.0</td>\n",
       "    </tr>\n",
       "    <tr>\n",
       "      <th>1827</th>\n",
       "      <td>18875.0</td>\n",
       "    </tr>\n",
       "    <tr>\n",
       "      <th>1828</th>\n",
       "      <td>27382.0</td>\n",
       "    </tr>\n",
       "  </tbody>\n",
       "</table>\n",
       "</div>"
      ],
      "text/plain": [
       "      Legal Permanent Residents\n",
       "Year                           \n",
       "NaN                         NaN\n",
       "1820                     8385.0\n",
       "1821                     9127.0\n",
       "1822                     6911.0\n",
       "1823                     6354.0\n",
       "1824                     7912.0\n",
       "1825                    10199.0\n",
       "1826                    10837.0\n",
       "1827                    18875.0\n",
       "1828                    27382.0"
      ]
     },
     "execution_count": 31,
     "metadata": {},
     "output_type": "execute_result"
    }
   ],
   "source": [
    "datalpr.head(10)"
   ]
  },
  {
   "cell_type": "code",
   "execution_count": 5,
   "metadata": {},
   "outputs": [
    {
     "data": {
      "text/plain": [
       "<matplotlib.axes._subplots.AxesSubplot at 0x111c6f748>"
      ]
     },
     "execution_count": 5,
     "metadata": {},
     "output_type": "execute_result"
    },
    {
     "data": {
      "image/png": "[encoded data removed]",
      "text/plain": [
       "<matplotlib.figure.Figure at 0x108f1be80>"
      ]
     },
     "metadata": {},
     "output_type": "display_data"
    }
   ],
   "source": [
    "datalpr.plot()"
   ]
  },
  {
   "cell_type": "code",
   "execution_count": 91,
   "metadata": {},
   "outputs": [],
   "source": [
    "# Immigrant Share of the U.S. Population and Civilian Labor Force, 1980 - Present\n",
    "laboralabama = pd.read_csv('https://raw.githubusercontent.com/thischoi/Project_Data/master/States/Alabama.csv', skiprows=1)\n",
    "laboralaska = pd.read_csv('https://raw.githubusercontent.com/thischoi/Project_Data/master/States/Alaska.csv', skiprows=1)\n",
    "laborarizona = pd.read_csv('https://raw.githubusercontent.com/thischoi/Project_Data/master/States/Arizona.csv', skiprows=1)\n",
    "laborarkansas = pd.read_csv('https://raw.githubusercontent.com/thischoi/Project_Data/master/States/Arkansas.csv', skiprows=1)\n",
    "laborcalifornia = pd.read_csv('https://raw.githubusercontent.com/thischoi/Project_Data/master/States/California.csv', skiprows=1)\n",
    "laborcolorado = pd.read_csv('https://raw.githubusercontent.com/thischoi/Project_Data/master/States/Colorado.csv', skiprows=1)\n",
    "laborconnecticut = pd.read_csv('https://raw.githubusercontent.com/thischoi/Project_Data/master/States/Connecticut.csv', skiprows=1)\n",
    "labordelaware = pd.read_csv('https://raw.githubusercontent.com/thischoi/Project_Data/master/States/Delaware.csv', skiprows=1)\n",
    "labordistrictofcolumbia = pd.read_csv('https://raw.githubusercontent.com/thischoi/Project_Data/master/States/DistrictofColumbia.csv', skiprows=1)\n",
    "laborflorida = pd.read_csv('https://raw.githubusercontent.com/thischoi/Project_Data/master/States/Florida.csv', skiprows=1)\n",
    "laborgeorgia = pd.read_csv('https://raw.githubusercontent.com/thischoi/Project_Data/master/States/Georgia.csv', skiprows=1)\n",
    "laborhawaii = pd.read_csv('https://raw.githubusercontent.com/thischoi/Project_Data/master/States/Hawaii.csv', skiprows=1)\n",
    "laboridaho = pd.read_csv('https://raw.githubusercontent.com/thischoi/Project_Data/master/States/Idaho.csv', skiprows=1)\n",
    "laborillinois = pd.read_csv('https://raw.githubusercontent.com/thischoi/Project_Data/master/States/Illinois.csv', skiprows=1)\n",
    "laborindiana = pd.read_csv('https://raw.githubusercontent.com/thischoi/Project_Data/master/States/Indiana.csv', skiprows=1)\n",
    "laboriowa = pd.read_csv('https://raw.githubusercontent.com/thischoi/Project_Data/master/States/Iowa.csv', skiprows=1)\n",
    "laborkansas = pd.read_csv('https://raw.githubusercontent.com/thischoi/Project_Data/master/States/Kansas.csv', skiprows=1)\n",
    "laborkentucky = pd.read_csv('https://raw.githubusercontent.com/thischoi/Project_Data/master/States/Kentucky.csv', skiprows=1)\n",
    "laborlouisiana = pd.read_csv('https://raw.githubusercontent.com/thischoi/Project_Data/master/States/Louisiana.csv', skiprows=1)\n",
    "labormaine = pd.read_csv('https://raw.githubusercontent.com/thischoi/Project_Data/master/States/Maine.csv', skiprows=1)\n",
    "labormaryland = pd.read_csv('https://raw.githubusercontent.com/thischoi/Project_Data/master/States/Maryland.csv', skiprows=1)\n",
    "labormassachusetts = pd.read_csv('https://raw.githubusercontent.com/thischoi/Project_Data/master/States/Massachusetts.csv', skiprows=1)\n",
    "labormichigan = pd.read_csv('https://raw.githubusercontent.com/thischoi/Project_Data/master/States/Michigan.csv', skiprows=1)\n",
    "laborminnesota = pd.read_csv('https://raw.githubusercontent.com/thischoi/Project_Data/master/States/Minnesota.csv', skiprows=1)\n",
    "labormississippi = pd.read_csv('https://raw.githubusercontent.com/thischoi/Project_Data/master/States/Mississippi.csv', skiprows=1)\n",
    "labormissouri = pd.read_csv('https://raw.githubusercontent.com/thischoi/Project_Data/master/States/Missouri.csv', skiprows=1)\n",
    "labormontana = pd.read_csv('https://raw.githubusercontent.com/thischoi/Project_Data/master/States/Montana.csv', skiprows=1)\n",
    "labornebraska = pd.read_csv('https://raw.githubusercontent.com/thischoi/Project_Data/master/States/Nebraska.csv', skiprows=1)\n",
    "labornevada = pd.read_csv('https://raw.githubusercontent.com/thischoi/Project_Data/master/States/Nevada.csv', skiprows=1)\n",
    "labornewhampshire = pd.read_csv('https://raw.githubusercontent.com/thischoi/Project_Data/master/States/NewHampshire.csv', skiprows=1)\n",
    "labornewjersey = pd.read_csv('https://raw.githubusercontent.com/thischoi/Project_Data/master/States/NewJersey.csv', skiprows=1)\n",
    "labornewmexico = pd.read_csv('https://raw.githubusercontent.com/thischoi/Project_Data/master/States/NewMexico.csv', skiprows=1)\n",
    "labornewyork = pd.read_csv('https://raw.githubusercontent.com/thischoi/Project_Data/master/States/NewYork.csv', skiprows=1)\n",
    "labornorthcarolina = pd.read_csv('https://raw.githubusercontent.com/thischoi/Project_Data/master/States/NorthCarolina.csv', skiprows=1)\n",
    "labornorthdakota = pd.read_csv('https://raw.githubusercontent.com/thischoi/Project_Data/master/States/NorthDakota.csv', skiprows=1)\n",
    "laborohio = pd.read_csv('https://raw.githubusercontent.com/thischoi/Project_Data/master/States/Ohio.csv', skiprows=1)\n",
    "laboroklahoma = pd.read_csv('https://raw.githubusercontent.com/thischoi/Project_Data/master/States/Oklahoma.csv', skiprows=1)\n",
    "labororegon = pd.read_csv('https://raw.githubusercontent.com/thischoi/Project_Data/master/States/Oregon.csv', skiprows=1)\n",
    "laborpennsylvania = pd.read_csv('https://raw.githubusercontent.com/thischoi/Project_Data/master/States/Pennsylvania.csv', skiprows=1)\n",
    "laborrhodeisland = pd.read_csv('https://raw.githubusercontent.com/thischoi/Project_Data/master/States/RhodeIsland.csv', skiprows=1)\n",
    "laborsouthcarolina = pd.read_csv('https://raw.githubusercontent.com/thischoi/Project_Data/master/States/SouthCarolina.csv', skiprows=1)\n",
    "laborsouthdakota = pd.read_csv('https://raw.githubusercontent.com/thischoi/Project_Data/master/States/SouthDakota.csv', skiprows=1)\n",
    "labortennessee = pd.read_csv('https://raw.githubusercontent.com/thischoi/Project_Data/master/States/Tennessee.csv', skiprows=1)\n",
    "labortexas = pd.read_csv('https://raw.githubusercontent.com/thischoi/Project_Data/master/States/Texas.csv', skiprows=1)\n",
    "laborutah = pd.read_csv('https://raw.githubusercontent.com/thischoi/Project_Data/master/States/Utah.csv', skiprows=1)\n",
    "laborvermont = pd.read_csv('https://raw.githubusercontent.com/thischoi/Project_Data/master/States/Vermont.csv', skiprows=1)\n",
    "laborvirginia = pd.read_csv('https://raw.githubusercontent.com/thischoi/Project_Data/master/States/Virginia.csv', skiprows=1)\n",
    "laborwashington = pd.read_csv('https://raw.githubusercontent.com/thischoi/Project_Data/master/States/Washington.csv', skiprows=1)\n",
    "laborwestvirginia = pd.read_csv('https://raw.githubusercontent.com/thischoi/Project_Data/master/States/WestVirginia.csv', skiprows=1)\n",
    "laborwisconsin = pd.read_csv('https://raw.githubusercontent.com/thischoi/Project_Data/master/States/Wisconsin.csv', skiprows=1)\n",
    "laborwyoming = pd.read_csv('https://raw.githubusercontent.com/thischoi/Project_Data/master/States/Wyoming.csv', skiprows=1)"
   ]
  },
  {
   "cell_type": "code",
   "execution_count": 102,
   "metadata": {},
   "outputs": [],
   "source": [
    "laborall = [laboralabama, laboralaska, laborarizona, laborarkansas, laborcalifornia, laborcolorado, laborconnecticut, labordelaware, labordistrictofcolumbia, laborflorida, laborgeorgia, laborhawaii, laboridaho, laborillinois, laborindiana, laboriowa, laborkansas, laborkentucky, laborlouisiana, labormaine, labormaryland, labormassachusetts, labormichigan, laborminnesota, labormississippi, labormissouri, labormontana, labornebraska, labornevada, labornewhampshire, labornewjersey, labornewmexico, labornewyork, labornorthcarolina, labornorthdakota, laborohio, laboroklahoma, labororegon, laborpennsylvania, laborrhodeisland, laborsouthcarolina, laborsouthdakota, labortennessee, labortexas, laborutah, laborvermont, laborvirginia, laborwashington, laborwestvirginia, laborwisconsin, laborwyoming] \n",
    "\n"
   ]
  },
  {
   "cell_type": "code",
   "execution_count": 100,
   "metadata": {},
   "outputs": [
    {
     "data": {
      "text/plain": [
       "<matplotlib.axes._subplots.AxesSubplot at 0x1122dd3c8>"
      ]
     },
     "execution_count": 100,
     "metadata": {},
     "output_type": "execute_result"
    },
    {
     "data": {
      "image/png": "[encoded data removed]",
      "text/plain": [
       "<matplotlib.figure.Figure at 0x106e05898>"
      ]
     },
     "metadata": {},
     "output_type": "display_data"
    }
   ],
   "source": [
    "# Share of foreign-born population, by state: 1960-2015\t\t\t\t\t\t\t\n",
    "url = 'https://raw.githubusercontent.com/thischoi/Project_Data/master/US-foreign-born-by-state.xlsx'\n",
    "foreignborn = pd.read_excel(url, sheetname=\"Sheet2\")\n",
    "foreignborn['Alaska'].plot()"
   ]
  },
  {
   "cell_type": "code",
   "execution_count": 9,
   "metadata": {},
   "outputs": [
    {
     "data": {
      "text/html": [
       "<div>\n",
       "<style>\n",
       "    .dataframe thead tr:only-child th {\n",
       "        text-align: right;\n",
       "    }\n",
       "\n",
       "    .dataframe thead th {\n",
       "        text-align: left;\n",
       "    }\n",
       "\n",
       "    .dataframe tbody tr th {\n",
       "        vertical-align: top;\n",
       "    }\n",
       "</style>\n",
       "<table border=\"1\" class=\"dataframe\">\n",
       "  <thead>\n",
       "    <tr style=\"text-align: right;\">\n",
       "      <th></th>\n",
       "      <th>Alabama</th>\n",
       "      <th>Alaska</th>\n",
       "      <th>Arizona</th>\n",
       "      <th>Arkansas</th>\n",
       "      <th>California</th>\n",
       "      <th>Colorado</th>\n",
       "      <th>Connecticut</th>\n",
       "      <th>Delaware</th>\n",
       "      <th>District of Columbia</th>\n",
       "      <th>Florida</th>\n",
       "      <th>...</th>\n",
       "      <th>South Dakota</th>\n",
       "      <th>Tennessee</th>\n",
       "      <th>Texas</th>\n",
       "      <th>Utah</th>\n",
       "      <th>Vermont</th>\n",
       "      <th>Virginia</th>\n",
       "      <th>Washington</th>\n",
       "      <th>West Virginia</th>\n",
       "      <th>Wisconsin</th>\n",
       "      <th>Wyoming</th>\n",
       "    </tr>\n",
       "  </thead>\n",
       "  <tbody>\n",
       "    <tr>\n",
       "      <th>1960</th>\n",
       "      <td>0.400000</td>\n",
       "      <td>3.200000</td>\n",
       "      <td>5.300000</td>\n",
       "      <td>0.400000</td>\n",
       "      <td>8.500000</td>\n",
       "      <td>3.500000</td>\n",
       "      <td>11.300000</td>\n",
       "      <td>2.700000</td>\n",
       "      <td>5.000000</td>\n",
       "      <td>5.20000</td>\n",
       "      <td>...</td>\n",
       "      <td>2.800000</td>\n",
       "      <td>0.5000</td>\n",
       "      <td>3.200000</td>\n",
       "      <td>3.500000</td>\n",
       "      <td>6.000000</td>\n",
       "      <td>1.300000</td>\n",
       "      <td>6.400000</td>\n",
       "      <td>1.300000</td>\n",
       "      <td>4.400000</td>\n",
       "      <td>2.60000</td>\n",
       "    </tr>\n",
       "    <tr>\n",
       "      <th>1970</th>\n",
       "      <td>0.600000</td>\n",
       "      <td>2.800000</td>\n",
       "      <td>4.700000</td>\n",
       "      <td>0.600000</td>\n",
       "      <td>8.800000</td>\n",
       "      <td>3.100000</td>\n",
       "      <td>8.200000</td>\n",
       "      <td>2.800000</td>\n",
       "      <td>4.700000</td>\n",
       "      <td>8.00000</td>\n",
       "      <td>...</td>\n",
       "      <td>1.500000</td>\n",
       "      <td>0.6000</td>\n",
       "      <td>3.100000</td>\n",
       "      <td>2.900000</td>\n",
       "      <td>4.900000</td>\n",
       "      <td>1.800000</td>\n",
       "      <td>5.000000</td>\n",
       "      <td>1.100000</td>\n",
       "      <td>3.000000</td>\n",
       "      <td>3.00000</td>\n",
       "    </tr>\n",
       "    <tr>\n",
       "      <th>1980</th>\n",
       "      <td>1.000000</td>\n",
       "      <td>3.800000</td>\n",
       "      <td>6.100000</td>\n",
       "      <td>1.000000</td>\n",
       "      <td>15.100000</td>\n",
       "      <td>4.000000</td>\n",
       "      <td>8.700000</td>\n",
       "      <td>3.100000</td>\n",
       "      <td>6.200000</td>\n",
       "      <td>10.80000</td>\n",
       "      <td>...</td>\n",
       "      <td>1.500000</td>\n",
       "      <td>1.1000</td>\n",
       "      <td>6.000000</td>\n",
       "      <td>3.600000</td>\n",
       "      <td>4.300000</td>\n",
       "      <td>3.400000</td>\n",
       "      <td>5.800000</td>\n",
       "      <td>1.100000</td>\n",
       "      <td>2.700000</td>\n",
       "      <td>2.00000</td>\n",
       "    </tr>\n",
       "    <tr>\n",
       "      <th>1990</th>\n",
       "      <td>1.000000</td>\n",
       "      <td>4.200000</td>\n",
       "      <td>7.600000</td>\n",
       "      <td>1.100000</td>\n",
       "      <td>21.700000</td>\n",
       "      <td>4.300000</td>\n",
       "      <td>8.500000</td>\n",
       "      <td>3.300000</td>\n",
       "      <td>9.700000</td>\n",
       "      <td>12.90000</td>\n",
       "      <td>...</td>\n",
       "      <td>1.100000</td>\n",
       "      <td>1.2000</td>\n",
       "      <td>8.900000</td>\n",
       "      <td>3.300000</td>\n",
       "      <td>3.100000</td>\n",
       "      <td>5.000000</td>\n",
       "      <td>6.600000</td>\n",
       "      <td>0.900000</td>\n",
       "      <td>2.400000</td>\n",
       "      <td>1.90000</td>\n",
       "    </tr>\n",
       "    <tr>\n",
       "      <th>2000</th>\n",
       "      <td>2.000000</td>\n",
       "      <td>6.100000</td>\n",
       "      <td>12.900000</td>\n",
       "      <td>2.700000</td>\n",
       "      <td>26.200000</td>\n",
       "      <td>8.600000</td>\n",
       "      <td>10.800000</td>\n",
       "      <td>5.800000</td>\n",
       "      <td>12.900000</td>\n",
       "      <td>16.70000</td>\n",
       "      <td>...</td>\n",
       "      <td>1.900000</td>\n",
       "      <td>2.8000</td>\n",
       "      <td>13.900000</td>\n",
       "      <td>7.100000</td>\n",
       "      <td>3.800000</td>\n",
       "      <td>8.000000</td>\n",
       "      <td>10.500000</td>\n",
       "      <td>1.100000</td>\n",
       "      <td>3.500000</td>\n",
       "      <td>2.50000</td>\n",
       "    </tr>\n",
       "    <tr>\n",
       "      <th>2010</th>\n",
       "      <td>3.600000</td>\n",
       "      <td>6.500000</td>\n",
       "      <td>13.400000</td>\n",
       "      <td>4.500000</td>\n",
       "      <td>27.200000</td>\n",
       "      <td>9.700000</td>\n",
       "      <td>13.200000</td>\n",
       "      <td>7.800000</td>\n",
       "      <td>13.200000</td>\n",
       "      <td>19.50000</td>\n",
       "      <td>...</td>\n",
       "      <td>2.600000</td>\n",
       "      <td>4.6000</td>\n",
       "      <td>16.400000</td>\n",
       "      <td>8.300000</td>\n",
       "      <td>4.500000</td>\n",
       "      <td>11.300000</td>\n",
       "      <td>13.300000</td>\n",
       "      <td>1.200000</td>\n",
       "      <td>4.400000</td>\n",
       "      <td>2.90000</td>\n",
       "    </tr>\n",
       "    <tr>\n",
       "      <th>2015</th>\n",
       "      <td>3.319833</td>\n",
       "      <td>8.468078</td>\n",
       "      <td>13.298995</td>\n",
       "      <td>4.823578</td>\n",
       "      <td>27.274997</td>\n",
       "      <td>9.781724</td>\n",
       "      <td>14.405693</td>\n",
       "      <td>9.488083</td>\n",
       "      <td>14.207828</td>\n",
       "      <td>20.16939</td>\n",
       "      <td>...</td>\n",
       "      <td>3.213861</td>\n",
       "      <td>4.8894</td>\n",
       "      <td>16.847606</td>\n",
       "      <td>8.187605</td>\n",
       "      <td>4.448583</td>\n",
       "      <td>12.106094</td>\n",
       "      <td>13.651954</td>\n",
       "      <td>1.724718</td>\n",
       "      <td>4.969802</td>\n",
       "      <td>3.20044</td>\n",
       "    </tr>\n",
       "  </tbody>\n",
       "</table>\n",
       "<p>7 rows × 51 columns</p>\n",
       "</div>"
      ],
      "text/plain": [
       "       Alabama    Alaska   Arizona   Arkansas   California   Colorado   \\\n",
       "1960  0.400000  3.200000   5.300000   0.400000     8.500000   3.500000   \n",
       "1970  0.600000  2.800000   4.700000   0.600000     8.800000   3.100000   \n",
       "1980  1.000000  3.800000   6.100000   1.000000    15.100000   4.000000   \n",
       "1990  1.000000  4.200000   7.600000   1.100000    21.700000   4.300000   \n",
       "2000  2.000000  6.100000  12.900000   2.700000    26.200000   8.600000   \n",
       "2010  3.600000  6.500000  13.400000   4.500000    27.200000   9.700000   \n",
       "2015  3.319833  8.468078  13.298995   4.823578    27.274997   9.781724   \n",
       "\n",
       "      Connecticut   Delaware   District of Columbia   Florida     ...     \\\n",
       "1960     11.300000   2.700000               5.000000   5.20000    ...      \n",
       "1970      8.200000   2.800000               4.700000   8.00000    ...      \n",
       "1980      8.700000   3.100000               6.200000  10.80000    ...      \n",
       "1990      8.500000   3.300000               9.700000  12.90000    ...      \n",
       "2000     10.800000   5.800000              12.900000  16.70000    ...      \n",
       "2010     13.200000   7.800000              13.200000  19.50000    ...      \n",
       "2015     14.405693   9.488083              14.207828  20.16939    ...      \n",
       "\n",
       "      South Dakota  Tennessee      Texas       Utah   Vermont   Virginia  \\\n",
       "1960      2.800000      0.5000   3.200000  3.500000  6.000000   1.300000   \n",
       "1970      1.500000      0.6000   3.100000  2.900000  4.900000   1.800000   \n",
       "1980      1.500000      1.1000   6.000000  3.600000  4.300000   3.400000   \n",
       "1990      1.100000      1.2000   8.900000  3.300000  3.100000   5.000000   \n",
       "2000      1.900000      2.8000  13.900000  7.100000  3.800000   8.000000   \n",
       "2010      2.600000      4.6000  16.400000  8.300000  4.500000  11.300000   \n",
       "2015      3.213861      4.8894  16.847606  8.187605  4.448583  12.106094   \n",
       "\n",
       "      Washington   West Virginia   Wisconsin   Wyoming   \n",
       "1960     6.400000        1.300000    4.400000   2.60000  \n",
       "1970     5.000000        1.100000    3.000000   3.00000  \n",
       "1980     5.800000        1.100000    2.700000   2.00000  \n",
       "1990     6.600000        0.900000    2.400000   1.90000  \n",
       "2000    10.500000        1.100000    3.500000   2.50000  \n",
       "2010    13.300000        1.200000    4.400000   2.90000  \n",
       "2015    13.651954        1.724718    4.969802   3.20044  \n",
       "\n",
       "[7 rows x 51 columns]"
      ]
     },
     "execution_count": 9,
     "metadata": {},
     "output_type": "execute_result"
    }
   ],
   "source": [
    "foreignborn"
   ]
  },
  {
   "cell_type": "code",
   "execution_count": 22,
   "metadata": {},
   "outputs": [
    {
     "data": {
      "text/plain": [
       "Index(['Alabama', 'Alaska', 'Arizona ', 'Arkansas ', 'California ',\n",
       "       'Colorado ', 'Connecticut ', 'Delaware ', 'District of Columbia ',\n",
       "       'Florida ', 'Georgia ', 'Hawaii ', 'Idaho ', 'Illinois ', 'Indiana',\n",
       "       'Iowa ', 'Kansas ', 'Kentucky', 'Louisiana ', 'Maine ', 'Maryland ',\n",
       "       'Massachusetts ', 'Michigan ', 'Minnesota', 'Mississippi ', 'Missouri',\n",
       "       'Montana', 'Nebraska ', 'Nevada ', 'New Hampshire ', 'New Jersey ',\n",
       "       'New Mexico ', 'New York ', 'North Carolina ', 'North Dakota ', 'Ohio ',\n",
       "       'Oklahoma', 'Oregon', 'Pennsylvania ', 'Rhode Island',\n",
       "       'South Carolina ', 'South Dakota', 'Tennessee ', 'Texas ', 'Utah',\n",
       "       'Vermont', 'Virginia', 'Washington ', 'West Virginia ', 'Wisconsin ',\n",
       "       'Wyoming '],\n",
       "      dtype='object')"
      ]
     },
     "execution_count": 22,
     "metadata": {},
     "output_type": "execute_result"
    }
   ],
   "source": [
    "foreignborn."
   ]
  },
  {
   "cell_type": "code",
   "execution_count": null,
   "metadata": {
    "collapsed": true
   },
   "outputs": [],
   "source": []
  }
 ],
 "metadata": {
  "kernelspec": {
   "display_name": "Python 3",
   "language": "python",
   "name": "python3"
  },
  "language_info": {
   "codemirror_mode": {
    "name": "ipython",
    "version": 3
   },
   "file_extension": ".py",
   "mimetype": "text/x-python",
   "name": "python",
   "nbconvert_exporter": "python",
   "pygments_lexer": "ipython3",
   "version": "3.6.3"
  }
 },
 "nbformat": 4,
 "nbformat_minor": 2
}
